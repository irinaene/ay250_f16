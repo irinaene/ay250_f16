{
 "cells": [
  {
   "cell_type": "code",
   "execution_count": 1,
   "metadata": {
    "collapsed": true
   },
   "outputs": [],
   "source": [
    "import numpy as np\n",
    "import matplotlib.pyplot as plt\n",
    "from scipy.special import erf, erfinv\n",
    "import emcee\n",
    "import corner\n",
    "\n",
    "%matplotlib inline"
   ]
  },
  {
   "cell_type": "markdown",
   "metadata": {},
   "source": [
    "## Part (a) -- drawing samples from Chabrier IMF by using emcee "
   ]
  },
  {
   "cell_type": "code",
   "execution_count": 2,
   "metadata": {
    "collapsed": false
   },
   "outputs": [],
   "source": [
    "### probabilites here\n",
    "def lnlike(M):\n",
    "    return np.sum(np.log(0.15/M)-(np.log10(M)-np.log10(0.08))**2/(2*0.69**2))\n",
    "\n",
    "def lnprior(M):\n",
    "    # let's assume flat priors\n",
    "    if 0.5 < M < 0.8:\n",
    "        return 0.0\n",
    "    return -np.inf\n",
    "\n",
    "def lnprob(M):\n",
    "    lp = lnprior(M)\n",
    "    if not np.isfinite(lp):\n",
    "        return -np.inf\n",
    "    return lp + lnlike(M)\n",
    "\n",
    "def chabrier_imf(N, M_min, M_max):\n",
    "    '''Analytical form of Chabrier IMF'''\n",
    "    m = np.logspace(np.log10(M_min), np.log10(M_max), N)\n",
    "    return 0.15/m * np.exp(-(np.log10(m)-np.log10(0.08))**2/(2*0.69**2))"
   ]
  },
  {
   "cell_type": "code",
   "execution_count": 3,
   "metadata": {
    "collapsed": false
   },
   "outputs": [],
   "source": [
    "### now let's draw some samples\n",
    "ndim, nwalkers = 1, 100\n",
    "pos = [np.array([np.random.uniform(0.5,0.8)]) for i in range(nwalkers)]\n",
    "sampler = emcee.EnsembleSampler(nwalkers, ndim, lnprob)\n",
    "pos1, prob, state = sampler.run_mcmc(pos, 1000);\n",
    "sampler.reset()\n",
    "sampler.run_mcmc(pos1, 100, rstate0=state);"
   ]
  },
  {
   "cell_type": "code",
   "execution_count": 8,
   "metadata": {
    "collapsed": false
   },
   "outputs": [
    {
     "data": {
      "image/png": "[encoded data removed]",
      "text/plain": [
       "<matplotlib.figure.Figure at 0x10f183590>"
      ]
     },
     "metadata": {},
     "output_type": "display_data"
    }
   ],
   "source": [
    "bins = np.logspace(np.log10(0.5),np.log10(0.8),1000)\n",
    "weights = np.ones_like(sampler.flatchain)/len(sampler.flatchain)\n",
    "plt.hist(sampler.flatchain, weights=weights)\n",
    "plt.plot(bins, chabrier_imf(1000,0.5,0.8), c='r', label='Chabrier')\n",
    "plt.legend()\n",
    "plt.xlabel('$m$')\n",
    "plt.show()"
   ]
  },
  {
   "cell_type": "markdown",
   "metadata": {},
   "source": [
    "## Part (b)"
   ]
  },
  {
   "cell_type": "markdown",
   "metadata": {},
   "source": [
    "We'll use the samples from part (a) and fit a single-slope power law using code from Problem 2."
   ]
  },
  {
   "cell_type": "code",
   "execution_count": 9,
   "metadata": {
    "collapsed": false
   },
   "outputs": [
    {
     "name": "stdout",
     "output_type": "stream",
     "text": [
      "10000\n"
     ]
    }
   ],
   "source": [
    "samples = sampler.flatchain\n",
    "print len(samples)"
   ]
  },
  {
   "cell_type": "code",
   "execution_count": 10,
   "metadata": {
    "collapsed": true
   },
   "outputs": [],
   "source": [
    "### probabilites here\n",
    "def lnlike2(theta, M_min, M_max, M):\n",
    "    alpha = theta\n",
    "    norm = (1.-alpha)/(M_max**(1.-alpha) - M_min**(1.-alpha))\n",
    "    return np.sum(np.log(norm) - alpha * np.log(M))\n",
    "\n",
    "def lnprior2(theta):\n",
    "    alpha = theta\n",
    "    # let's assume flat priors\n",
    "    if 1.0 < alpha < 6.0:\n",
    "        return 0.0\n",
    "    return -np.inf\n",
    "\n",
    "def lnprob2(theta, M_min, M_max, M):\n",
    "    lp = lnprior2(theta)\n",
    "    ll = lnlike2(theta, M_min, M_max, M)\n",
    "    if not np.isfinite(lp):\n",
    "        return -np.inf\n",
    "    return lp + ll"
   ]
  },
  {
   "cell_type": "code",
   "execution_count": 18,
   "metadata": {
    "collapsed": false
   },
   "outputs": [],
   "source": [
    "### now let's set up emcee\n",
    "ndim, nwalkers = 1, 100\n",
    "pos = [np.array([2.]) + 1e-4*np.random.randn(ndim) for i in range(nwalkers)]\n",
    "#pos = [result[\"x\"] + 1e-4*np.random.randn(ndim) for i in range(nwalkers)]\n",
    "sampler2 = emcee.EnsembleSampler(nwalkers, ndim, lnprob2, args=[0.5, 0.8, samples])\n",
    "pos1, prob, state = sampler2.run_mcmc(pos, 1000);\n",
    "sampler.reset()\n",
    "sampler.run_mcmc(pos1, 2000, rstate0=state);"
   ]
  },
  {
   "cell_type": "code",
   "execution_count": 19,
   "metadata": {
    "collapsed": false
   },
   "outputs": [
    {
     "data": {
      "image/png": "[encoded data removed]",
      "text/plain": [
       "<matplotlib.figure.Figure at 0x10ff99150>"
      ]
     },
     "metadata": {},
     "output_type": "display_data"
    }
   ],
   "source": [
    "### corner plot\n",
    "samples2 = sampler2.chain[:,:, :].reshape((-1, ndim))\n",
    "fig3 = corner.corner(samples2, labels=[r\"$\\alpha$\"], quantiles=[0.025, 0.16, 0.5, 0.84, 0.975], show_titles=True, \\\n",
    "                     truths=[2.3])\n",
    "plt.show(fig3)"
   ]
  },
  {
   "cell_type": "markdown",
   "metadata": {
    "collapsed": true
   },
   "source": [
    "This result is different from the Kroupa index of 2.3 -- in fact, we can see from the plot that the Kroupa index is cleary outside the 1 $\\sigma$ confidence interval (also outside the 3 $\\sigma$ interval)."
   ]
  },
  {
   "cell_type": "code",
   "execution_count": null,
   "metadata": {
    "collapsed": true
   },
   "outputs": [],
   "source": []
  }
 ],
 "metadata": {
  "anaconda-cloud": {},
  "kernelspec": {
   "display_name": "Python [conda root]",
   "language": "python",
   "name": "conda-root-py"
  },
  "language_info": {
   "codemirror_mode": {
    "name": "ipython",
    "version": 2
   },
   "file_extension": ".py",
   "mimetype": "text/x-python",
   "name": "python",
   "nbconvert_exporter": "python",
   "pygments_lexer": "ipython2",
   "version": "2.7.12"
  }
 },
 "nbformat": 4,
 "nbformat_minor": 0
}
