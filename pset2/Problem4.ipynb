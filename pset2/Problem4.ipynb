{
 "cells": [
  {
   "cell_type": "code",
   "execution_count": 56,
   "metadata": {
    "collapsed": true
   },
   "outputs": [],
   "source": [
    "import numpy as np\n",
    "import matplotlib.pyplot as plt\n",
    "from scipy.special import erf, erfinv\n",
    "import emcee\n",
    "import corner\n",
    "\n",
    "%matplotlib inline"
   ]
  },
  {
   "cell_type": "code",
   "execution_count": 49,
   "metadata": {
    "collapsed": false
   },
   "outputs": [],
   "source": [
    "### drawing sample from Chabrier IMF by using emcee \n",
    "\n",
    "### probabilites here\n",
    "def lnlike(M):\n",
    "    return np.sum(np.log(0.15/M)-(np.log10(M)-np.log10(0.08))**2/(2*0.69**2))\n",
    "\n",
    "def lnprior(M):\n",
    "    # let's assume flat priors\n",
    "    if 0.5 < M < 0.8:\n",
    "        return 0.0\n",
    "    return -np.inf\n",
    "\n",
    "def lnprob(M):\n",
    "    lp = lnprior(M)\n",
    "    if not np.isfinite(lp):\n",
    "        return -np.inf\n",
    "    return lp + lnlike(M)\n",
    "\n",
    "def chabrier_imf(N, M_min, M_max):\n",
    "    '''Analytical form of Chabrier IMF'''\n",
    "    m = np.logspace(np.log10(M_min), np.log10(M_max), N)\n",
    "    return 0.15/m * np.exp(-(np.log10(m)-np.log10(0.08))**2/(2*0.69**2))"
   ]
  },
  {
   "cell_type": "code",
   "execution_count": 50,
   "metadata": {
    "collapsed": false
   },
   "outputs": [],
   "source": [
    "### now let's draw some samples\n",
    "ndim, nwalkers = 1, 100\n",
    "pos = [np.array([np.random.uniform(0.5,0.8)]) for i in range(nwalkers)]\n",
    "sampler = emcee.EnsembleSampler(nwalkers, ndim, lnprob)\n",
    "pos1, prob, state = sampler.run_mcmc(pos, 1000);\n",
    "sampler.reset()\n",
    "sampler.run_mcmc(pos1, 100, rstate0=state);"
   ]
  },
  {
   "cell_type": "code",
   "execution_count": 51,
   "metadata": {
    "collapsed": false
   },
   "outputs": [
    {
     "data": {
      "image/png": "[encoded data removed]",
      "text/plain": [
       "<matplotlib.figure.Figure at 0x10f165e50>"
      ]
     },
     "metadata": {},
     "output_type": "display_data"
    }
   ],
   "source": [
    "bins = np.logspace(np.log10(0.5),np.log10(0.8),1000)\n",
    "weights = np.ones_like(sampler.flatchain)/len(sampler.flatchain)\n",
    "plt.hist(sampler.flatchain, weights=weights)\n",
    "plt.plot(bins, chabrier_imf(1000,0.5,0.8), c='r')\n",
    "#plt.gca().set_xscale(\"log\")\n",
    "#plt.gca().set_yscale(\"log\")\n",
    "#plt.loglog(bins, chab/0.563951, c='r')\n",
    "plt.show()"
   ]
  },
  {
   "cell_type": "markdown",
   "metadata": {},
   "source": [
    "## Part (b)"
   ]
  },
  {
   "cell_type": "markdown",
   "metadata": {},
   "source": [
    "We'll use the samples from part (a) and fit a single-slope power law using code from Problem 2."
   ]
  },
  {
   "cell_type": "code",
   "execution_count": 52,
   "metadata": {
    "collapsed": false
   },
   "outputs": [
    {
     "name": "stdout",
     "output_type": "stream",
     "text": [
      "10000\n"
     ]
    }
   ],
   "source": [
    "samples = sampler.flatchain\n",
    "print len(samples)"
   ]
  },
  {
   "cell_type": "code",
   "execution_count": 53,
   "metadata": {
    "collapsed": true
   },
   "outputs": [],
   "source": [
    "### probabilites here\n",
    "def lnlike2(theta, M_min, M_max, M):\n",
    "    alpha = theta\n",
    "    #norm = integrate.quad(lambda x: x**(-alpha), M_min, M_max) # as defined in pset, c = 1/norm[0]\n",
    "    norm = (1.-alpha)/(M_max**(1.-alpha) - M_min**(1.-alpha))\n",
    "    return np.sum(np.log(norm) - alpha * np.log(M))\n",
    "\n",
    "def lnprior2(theta):\n",
    "    alpha = theta\n",
    "    # let's assume flat priors\n",
    "    if 1.0 < alpha < 6.0:\n",
    "        return 0.0\n",
    "    return -np.inf\n",
    "\n",
    "def lnprob2(theta, M_min, M_max, M):\n",
    "    lp = lnprior2(theta)\n",
    "    ll = lnlike2(theta, M_min, M_max, M)\n",
    "    if not np.isfinite(lp):\n",
    "        return -np.inf\n",
    "    return lp + ll"
   ]
  },
  {
   "cell_type": "code",
   "execution_count": 54,
   "metadata": {
    "collapsed": false
   },
   "outputs": [],
   "source": [
    "### now let's set up emcee\n",
    "ndim, nwalkers = 1, 100\n",
    "pos = [np.array([np.random.uniform(2,3)]) for i in range(nwalkers)]\n",
    "#pos = [result[\"x\"] + 1e-4*np.random.randn(ndim) for i in range(nwalkers)]\n",
    "sampler2 = emcee.EnsembleSampler(nwalkers, ndim, lnprob2, args=[0.5, 0.8, samples])\n",
    "pos1, prob, state = sampler2.run_mcmc(pos, 1000);\n",
    "#sampler.reset()\n",
    "#sampler.run_mcmc(pos1, 2000, rstate0=state);"
   ]
  },
  {
   "cell_type": "code",
   "execution_count": 58,
   "metadata": {
    "collapsed": false
   },
   "outputs": [
    {
     "data": {
      "image/png": "[encoded data removed]",
      "text/plain": [
       "<matplotlib.figure.Figure at 0x10f4bcb50>"
      ]
     },
     "metadata": {},
     "output_type": "display_data"
    }
   ],
   "source": [
    "### corner plot\n",
    "samples2 = sampler2.chain[:,:, :].reshape((-1, ndim))\n",
    "fig3 = corner.corner(samples2, labels=[r\"$\\alpha$\"], quantiles=[0.16, 0.5, 0.84], show_titles=True)\n",
    "plt.show(fig3)"
   ]
  },
  {
   "cell_type": "code",
   "execution_count": null,
   "metadata": {
    "collapsed": true
   },
   "outputs": [],
   "source": []
  }
 ],
 "metadata": {
  "kernelspec": {
   "display_name": "Python [conda root]",
   "language": "python",
   "name": "conda-root-py"
  },
  "language_info": {
   "codemirror_mode": {
    "name": "ipython",
    "version": 2
   },
   "file_extension": ".py",
   "mimetype": "text/x-python",
   "name": "python",
   "nbconvert_exporter": "python",
   "pygments_lexer": "ipython2",
   "version": "2.7.12"
  }
 },
 "nbformat": 4,
 "nbformat_minor": 0
}
