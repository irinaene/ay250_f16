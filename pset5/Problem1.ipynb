{
 "cells": [
  {
   "cell_type": "code",
   "execution_count": 13,
   "metadata": {
    "collapsed": true
   },
   "outputs": [],
   "source": [
    "import numpy as np\n",
    "import matplotlib.pyplot as plt\n",
    "\n",
    "import fsps"
   ]
  },
  {
   "cell_type": "markdown",
   "metadata": {},
   "source": [
    "## UV Star Formation Rates"
   ]
  },
  {
   "cell_type": "markdown",
   "metadata": {},
   "source": [
    "## Part (a)"
   ]
  },
  {
   "cell_type": "code",
   "execution_count": 14,
   "metadata": {
    "collapsed": true
   },
   "outputs": [],
   "source": [
    "### constants\n",
    "L_sun = 3.846 * 10**33 # erg/s\n",
    "pc = 3.085677581467192 * 10**18 # cm\n",
    "m_ab0 = -2.5 * np.log10(3631 * 10**(-23)) # AB magnitude zero point\n",
    "h = 6.6260755 * 10**(-27) # erg s\n",
    "c = 2.99792458 * 10**18 # angstrom/s"
   ]
  },
  {
   "cell_type": "code",
   "execution_count": 16,
   "metadata": {
    "collapsed": false
   },
   "outputs": [],
   "source": [
    "sp = fsps.StellarPopulation(compute_vega_mags=False, sfh=1, const=1, zmet=10, imf_type=2, sf_trunc=13.7)"
   ]
  },
  {
   "cell_type": "code",
   "execution_count": 17,
   "metadata": {
    "collapsed": true
   },
   "outputs": [],
   "source": [
    "sp.params['tage'] = 13.7 # Gyr"
   ]
  },
  {
   "cell_type": "code",
   "execution_count": 18,
   "metadata": {
    "collapsed": false
   },
   "outputs": [
    {
     "name": "stdout",
     "output_type": "stream",
     "text": [
      "7.29927007299e-11\n"
     ]
    }
   ],
   "source": [
    "SFR = sp.sfr\n",
    "print(SFR)"
   ]
  },
  {
   "cell_type": "code",
   "execution_count": 19,
   "metadata": {
    "collapsed": false
   },
   "outputs": [
    {
     "data": {
      "text/plain": [
       "6.8068425521015783"
      ]
     },
     "execution_count": 19,
     "metadata": {},
     "output_type": "execute_result"
    }
   ],
   "source": [
    "M_ab = sp.get_mags(tage=13.7, bands=['galex_fuv'])\n",
    "M_ab[0]"
   ]
  },
  {
   "cell_type": "markdown",
   "metadata": {},
   "source": [
    "Equation 12 of Kennicutt & Evans (2012) says that $\\log_{10}(\\dot{M_*}) = \\log_{10}({\\rm L_{FUV}}) - \\log_{10}({\\rm C_{FUV}})$, where ${\\rm L_{FUV}} = \\nu_{\\rm FUV} \\times L_{\\rm FUV}$.\n",
    "\n",
    "Below are the series of steps to take us from an FUV-band AB magnitude to ${\\rm L_{FUV}}$ as required by equation 12.\n",
    "\n",
    "$f_{\\rm FUV} = 10^{-0.4*(m_{\\rm FUV} + m_{ab,0})}$\n",
    "\n",
    "$L_{\\rm FUV} = 4 * \\pi * 10^2 * f_{\\rm FUV}$. We evaluate at a distance of 10pc because there the apparent and absolute magnitudes have the same value.\n",
    "\n",
    "${\\rm L_{FUV}}$ $=$ $L_{\\rm FUV} \\times \\nu_{\\rm FUV}$.\n",
    "\n",
    "\n"
   ]
  },
  {
   "cell_type": "code",
   "execution_count": 20,
   "metadata": {
    "collapsed": false
   },
   "outputs": [
    {
     "data": {
      "text/plain": [
       "1535.1"
      ]
     },
     "execution_count": 20,
     "metadata": {},
     "output_type": "execute_result"
    }
   ],
   "source": [
    "# get filter\n",
    "fuv = fsps.get_filter('galex_fuv')\n",
    "# get wavelength (in Angstroms)\n",
    "fuv.lambda_eff"
   ]
  },
  {
   "cell_type": "code",
   "execution_count": 21,
   "metadata": {
    "collapsed": false
   },
   "outputs": [
    {
     "data": {
      "text/plain": [
       "1952918103055175.8"
      ]
     },
     "execution_count": 21,
     "metadata": {},
     "output_type": "execute_result"
    }
   ],
   "source": [
    "# compute frequency\n",
    "fuv_freq = c / fuv.lambda_eff\n",
    "fuv_freq"
   ]
  },
  {
   "cell_type": "code",
   "execution_count": 22,
   "metadata": {
    "collapsed": false
   },
   "outputs": [
    {
     "data": {
      "text/plain": [
       "1.1964951828447585e+40"
      ]
     },
     "execution_count": 22,
     "metadata": {},
     "output_type": "execute_result"
    }
   ],
   "source": [
    "# area correspoding to d=10pc\n",
    "A = 4 * np.pi * (10*pc)**2\n",
    "A"
   ]
  },
  {
   "cell_type": "code",
   "execution_count": 23,
   "metadata": {
    "collapsed": false
   },
   "outputs": [
    {
     "data": {
      "text/plain": [
       "6.8752616092531728e-23"
      ]
     },
     "execution_count": 23,
     "metadata": {},
     "output_type": "execute_result"
    }
   ],
   "source": [
    "# flux\n",
    "f_fuv = 10**(-0.4*(M_ab[0]+m_ab0))\n",
    "f_fuv"
   ]
  },
  {
   "cell_type": "code",
   "execution_count": 24,
   "metadata": {
    "collapsed": false
   },
   "outputs": [
    {
     "data": {
      "text/plain": [
       "1.6065128872840995e+33"
      ]
     },
     "execution_count": 24,
     "metadata": {},
     "output_type": "execute_result"
    }
   ],
   "source": [
    "# luminosity as needed by Kennicut eqn 12\n",
    "L_fuv = fuv_freq * A * f_fuv\n",
    "L_fuv"
   ]
  },
  {
   "cell_type": "code",
   "execution_count": 25,
   "metadata": {
    "collapsed": false
   },
   "outputs": [
    {
     "name": "stdout",
     "output_type": "stream",
     "text": [
      "2.20092265558e+43\n",
      "43.3426047809\n"
     ]
    }
   ],
   "source": [
    "# now to get the calibration\n",
    "C_fuv = L_fuv/SFR\n",
    "print(C_fuv)\n",
    "print(np.log10(C_fuv))"
   ]
  },
  {
   "cell_type": "markdown",
   "metadata": {
    "collapsed": true
   },
   "source": [
    "## Part (b)"
   ]
  },
  {
   "cell_type": "markdown",
   "metadata": {},
   "source": [
    "My value of $\\log {\\rm C}_{\\rm FUV}$ is 43.34. This agrees with the Kennicutt & Evans (2012) value of 43.35."
   ]
  },
  {
   "cell_type": "code",
   "execution_count": null,
   "metadata": {
    "collapsed": true
   },
   "outputs": [],
   "source": []
  }
 ],
 "metadata": {
  "anaconda-cloud": {},
  "kernelspec": {
   "display_name": "Python [conda root]",
   "language": "python",
   "name": "conda-root-py"
  },
  "language_info": {
   "codemirror_mode": {
    "name": "ipython",
    "version": 2
   },
   "file_extension": ".py",
   "mimetype": "text/x-python",
   "name": "python",
   "nbconvert_exporter": "python",
   "pygments_lexer": "ipython2",
   "version": "2.7.12"
  }
 },
 "nbformat": 4,
 "nbformat_minor": 0
}
